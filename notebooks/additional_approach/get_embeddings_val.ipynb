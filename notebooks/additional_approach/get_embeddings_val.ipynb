{
 "cells": [
  {
   "cell_type": "code",
   "execution_count": 3,
   "metadata": {
    "collapsed": true
   },
   "outputs": [
    {
     "name": "stderr",
     "output_type": "stream",
     "text": [
      "100%|██████████| 10279/10279 [00:03<00:00, 2786.42it/s]\n"
     ]
    },
    {
     "name": "stdout",
     "output_type": "stream",
     "text": [
      "Loading model...\n"
     ]
    },
    {
     "name": "stderr",
     "output_type": "stream",
     "text": [
      "Warning : `load_model` does not return WordVectorModel or SupervisedModel any more, but a `FastText` object which is very similar.\n"
     ]
    }
   ],
   "source": [
    "import warnings\n",
    "\n",
    "import numpy as np\n",
    "import pandas as pd\n",
    "import sister\n",
    "from tqdm import tqdm\n",
    "\n",
    "warnings.filterwarnings('ignore')\n",
    "data = pd.read_csv('/home/igor/PycharmProjects/bert-qa/data/squad_csv/validation-squad.csv')\n",
    "data = data[['context', 'question', 'id', 'text']]\n",
    "data.drop_duplicates(inplace=True)\n",
    "ids = []\n",
    "word = []\n",
    "target = []\n",
    "words_in_context_with_ids = pd.DataFrame()\n",
    "for _, v in tqdm(data.iterrows(), total=len(data)):\n",
    "    try:\n",
    "        words_in_context = set(v['context'].split())\n",
    "        real_answer = set()\n",
    "        real_answer.add(v['text'].split()[0])\n",
    "        words_in_context = words_in_context.difference(real_answer)\n",
    "        for w in words_in_context:\n",
    "            ids.append(v['id'])\n",
    "            word.append(w)\n",
    "            target.append(0)\n",
    "        ids.append(v['id'])\n",
    "        word.append(real_answer.pop())\n",
    "        target.append(1)\n",
    "    except:\n",
    "        continue\n",
    "\n",
    "words_in_context_with_ids = pd.DataFrame({'id': ids, \"word\": word, \"target\": target})\n",
    "\n",
    "merged_df = pd.merge(data, words_in_context_with_ids, on=['id'], how='right')\n",
    "merged_df = merged_df[['context', 'question', 'id','word', 'target']]\n",
    "\n",
    "embedder = sister.MeanEmbedding(lang=\"en\")\n",
    "\n",
    "context_embeddins = []\n",
    "question_embeddings = []\n",
    "word_embeddigs = []\n",
    "\n",
    "def get_embeddings(row):\n",
    "    context_embeddins.append(embedder(row['context']))\n",
    "    question_embeddings.append(embedder(row['question']))\n",
    "    word_embeddigs.append(embedder(row['word']))\n",
    "\n",
    "\n",
    "\n",
    "n_samples = 87000\n",
    "\n",
    "merged_df_negative = merged_df[merged_df['target'] == 0]\n",
    "merged_df_positive = merged_df[merged_df['target'] == 1]\n",
    "\n",
    "merged_df_negative.reset_index(inplace=True)\n",
    "merged_df_positive.reset_index(inplace=True)\n",
    "\n",
    "merged_df_negative[0:n_samples].apply(get_embeddings, axis=1)\n",
    "\n",
    "context_embeddins = np.array(context_embeddins)\n",
    "question_embeddings = np.array(question_embeddings)\n",
    "word_embeddigs = np.array(word_embeddigs)\n",
    "\n",
    "stacked = np.concatenate([context_embeddins, question_embeddings, word_embeddigs], axis=1)\n",
    "embeddings_negative_df = pd.DataFrame(stacked)\n",
    "embeddings_negative_df['target'] = merged_df_negative['target']\n",
    "embeddings_negative_df['id'] = merged_df_negative['id']\n",
    "\n",
    "embeddings_negative_df.to_csv('negative_val.csv', index=False)\n",
    "\n",
    "context_embeddins = []\n",
    "question_embeddings = []\n",
    "word_embeddigs = []\n",
    "\n",
    "merged_df_positive[0:n_samples].apply(get_embeddings, axis=1)\n",
    "context_embeddins = np.array(context_embeddins)\n",
    "question_embeddings = np.array(question_embeddings)\n",
    "word_embeddigs = np.array(word_embeddigs)\n",
    "\n",
    "stacked = np.concatenate([context_embeddins, question_embeddings, word_embeddigs], axis=1)\n",
    "embeddings_positive_df = pd.DataFrame(stacked)\n",
    "embeddings_positive_df['target'] = merged_df_positive['target']\n",
    "embeddings_positive_df['id'] = merged_df_positive['id']\n",
    "\n",
    "embeddings_positive_df.to_csv('positive_val.csv', index=False)\n"
   ]
  }
 ],
 "metadata": {
  "kernelspec": {
   "display_name": "Python 3",
   "language": "python",
   "name": "python3"
  },
  "language_info": {
   "codemirror_mode": {
    "name": "ipython",
    "version": 2
   },
   "file_extension": ".py",
   "mimetype": "text/x-python",
   "name": "python",
   "nbconvert_exporter": "python",
   "pygments_lexer": "ipython2",
   "version": "2.7.6"
  }
 },
 "nbformat": 4,
 "nbformat_minor": 0
}
